{
 "cells": [
  {
   "cell_type": "code",
   "execution_count": 3,
   "metadata": {},
   "outputs": [
    {
     "name": "stdout",
     "output_type": "stream",
     "text": [
      "Screenshot 2024-04-19 at 1.12.34 PM.png cropped and saved successfully.\n",
      "Screenshot 2024-04-19 at 1.10.37 PM.png cropped and saved successfully.\n",
      "Screenshot 2024-04-19 at 1.12.55 PM.png cropped and saved successfully.\n",
      "Screenshot 2024-04-19 at 1.10.09 PM.png cropped and saved successfully.\n",
      "Screenshot 2024-04-19 at 1.12.06 PM.png cropped and saved successfully.\n",
      "Screenshot 2024-04-19 at 1.10.52 PM.png cropped and saved successfully.\n",
      "Screenshot 2024-04-19 at 1.11.51 PM.png cropped and saved successfully.\n",
      "Screenshot 2024-04-19 at 1.09.53 PM.png cropped and saved successfully.\n",
      "Screenshot 2024-04-19 at 1.12.40 PM.png cropped and saved successfully.\n",
      "Screenshot 2024-04-19 at 1.11.00 PM.png cropped and saved successfully.\n"
     ]
    }
   ],
   "source": [
    "from PIL import Image\n",
    "import os\n",
    "\n",
    "def crop_images(input_folder, output_folder, left_crop, top_crop, right_crop, bottom_crop):\n",
    "    # Ensure output folder exists\n",
    "    if not os.path.exists(output_folder):\n",
    "        os.makedirs(output_folder)\n",
    "\n",
    "    # Loop through images in the input folder\n",
    "    for filename in os.listdir(input_folder):\n",
    "        if filename.endswith(\".jpg\") or filename.endswith(\".PNG\") or filename.endswith(\".png\"):\n",
    "            # Open image\n",
    "            img = Image.open(os.path.join(input_folder, filename))\n",
    "\n",
    "            # Get original image dimensions\n",
    "            width, height = img.size\n",
    "\n",
    "            # Calculate new dimensions after cropping\n",
    "            new_width = width - left_crop - right_crop\n",
    "            new_height = height - top_crop - bottom_crop\n",
    "\n",
    "            # Crop image\n",
    "            img_cropped = img.crop((left_crop, top_crop, width - right_crop, height - bottom_crop))\n",
    "\n",
    "            # Save cropped image to output folder\n",
    "            output_path = os.path.join(output_folder, filename)\n",
    "            img_cropped.save(output_path)\n",
    "\n",
    "            print(f\"{filename} cropped and saved successfully.\")\n",
    "\n",
    "# Example usage\n",
    "input_folder = \"in\"\n",
    "output_folder = \"out\"\n",
    "left_crop = 0\n",
    "top_crop = 480\n",
    "right_crop = 0\n",
    "bottom_crop = 150\n",
    "\n",
    "crop_images(input_folder, output_folder, left_crop, top_crop, right_crop, bottom_crop)"
   ]
  }
 ],
 "metadata": {
  "kernelspec": {
   "display_name": "base",
   "language": "python",
   "name": "python3"
  },
  "language_info": {
   "codemirror_mode": {
    "name": "ipython",
    "version": 3
   },
   "file_extension": ".py",
   "mimetype": "text/x-python",
   "name": "python",
   "nbconvert_exporter": "python",
   "pygments_lexer": "ipython3",
   "version": "3.9.12"
  }
 },
 "nbformat": 4,
 "nbformat_minor": 2
}
