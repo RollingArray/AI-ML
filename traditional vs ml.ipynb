{
 "cells": [
  {
   "cell_type": "markdown",
   "id": "8b3deeed",
   "metadata": {},
   "source": [
    "# Illustrating the difference between **traditional programming** and **machine learning** Using a **simple algebraic function**\n",
    "\n",
    "## 📌 Example Problem: `y = 2x + 3`\n",
    "\n",
    "We want to find the relationship between `x` and `y`."
   ]
  },
  {
   "cell_type": "markdown",
   "id": "cd0af814",
   "metadata": {},
   "source": [
    "### ✅ Traditional Programming\n",
    "\n",
    "* We **know the rule** (`y = 2x + 3`) ahead of time.\n",
    "* We write a function that applies it."
   ]
  },
  {
   "cell_type": "code",
   "execution_count": 1,
   "id": "71d47f7e",
   "metadata": {},
   "outputs": [
    {
     "name": "stdout",
     "output_type": "stream",
     "text": [
      "13\n"
     ]
    }
   ],
   "source": [
    "def calculate_y(x):\n",
    "    return 2 * x + 3\n",
    "\n",
    "print(calculate_y(5))  # Output: 13\n"
   ]
  },
  {
   "cell_type": "markdown",
   "id": "adf23fba",
   "metadata": {},
   "source": [
    "🧠 Logic is **explicitly programmed** by the developer."
   ]
  },
  {
   "cell_type": "markdown",
   "id": "dcf6f5ea",
   "metadata": {},
   "source": [
    "### 🤖 Machine Learning\n",
    "\n",
    "* This time we **don’t know the rule**.\n",
    "* We give the machine **examples** (`x`, `y` pairs), and it **learns** the pattern.\n",
    "\n",
    "| x | y  |\n",
    "| - | -- |\n",
    "| 1 | 5  |\n",
    "| 2 | 7  |\n",
    "| 3 | 9  |\n",
    "| 4 | 11 |\n",
    "| 5 | 13 |\n",
    "\n",
    "We use a machine learning model (like a linear regressor) to learn the pattern from this data."
   ]
  },
  {
   "cell_type": "code",
   "execution_count": 6,
   "id": "22e25e44",
   "metadata": {},
   "outputs": [
    {
     "name": "stdout",
     "output_type": "stream",
     "text": [
      "[15.]\n",
      "Learned equation: y = 2.00x + 3.00\n"
     ]
    }
   ],
   "source": [
    "from sklearn.linear_model import LinearRegression\n",
    "import numpy as np\n",
    "import matplotlib.pyplot as plt\n",
    "\n",
    "# Training data\n",
    "x = np.array([1, 2, 3, 4, 5]).reshape(-1, 1)\n",
    "y = np.array([5, 7, 9, 11, 13])\n",
    "\n",
    "# ML model learns the pattern\n",
    "model = LinearRegression()\n",
    "model.fit(x, y)\n",
    "\n",
    "# Predict values for a smooth line\n",
    "x_range = np.linspace(0, 6, 100).reshape(-1, 1)\n",
    "y_pred = model.predict(x_range)\n",
    "\n",
    "# Predict for a new value\n",
    "print(model.predict([[6]]))  # Output: [15.]\n",
    "print(f\"Learned equation: y = {model.coef_[0]:.2f}x + {model.intercept_:.2f}\")"
   ]
  },
  {
   "cell_type": "markdown",
   "id": "80343375",
   "metadata": {},
   "source": [
    "In this case, the ML model **perfectly learned** the relationship:\n",
    "\n",
    "> 🔍 `y ≈ 2.00x + 3.00`"
   ]
  },
  {
   "cell_type": "code",
   "execution_count": 5,
   "id": "af8c47d5",
   "metadata": {},
   "outputs": [
    {
     "data": {
      "image/png": "[encoded data removed]",
      "text/plain": [
       "<Figure size 576x360 with 1 Axes>"
      ]
     },
     "metadata": {
      "needs_background": "light"
     },
     "output_type": "display_data"
    }
   ],
   "source": [
    "# Plotting\n",
    "plt.figure(figsize=(8, 5))\n",
    "plt.scatter(x, y, color='blue', label='Training Data (x, y)', s=60)\n",
    "plt.plot(x_range, y_pred, color='red', linewidth=2, label='Learned Model Line')\n",
    "plt.title('Traditional Programming vs ML: Learning y = 2x + 3', fontsize=14)\n",
    "plt.xlabel('x', fontsize=12)\n",
    "plt.ylabel('y', fontsize=12)\n",
    "plt.grid(True)\n",
    "plt.legend()\n",
    "plt.tight_layout()\n",
    "plt.show()"
   ]
  },
  {
   "cell_type": "markdown",
   "id": "0b1d53c2",
   "metadata": {},
   "source": [
    "Visual plot that clearly shows the difference:\n",
    "\n",
    "* **Blue dots** represent the training examples we gave the ML model (input/output pairs).\n",
    "* The **red line** is the model’s **learned rule** (in this case, it closely approximates `y = 2x + 3`).\n",
    "\n",
    "This visualization perfectly explains how:\n",
    "\n",
    "* In traditional programming, we **write** the red line formula.\n",
    "* In ML, the model **learns** the red line from the blue dots."
   ]
  },
  {
   "cell_type": "markdown",
   "id": "8906f0cb",
   "metadata": {},
   "source": [
    "> 💡 In **ML**, we **don’t give the formula**. We give **examples**, and the model **figures out** the relationship.\n",
    "\n",
    "---\n",
    "\n",
    "### 🎯 Summary Table\n",
    "\n",
    "| Feature           | Traditional              | ML Model                        |\n",
    "| ----------------- | ------------------------ | ------------------------------- |\n",
    "| Input             | Known formula (`2x + 3`) | Examples (x, y pairs)           |\n",
    "| Output            | We compute `y` directly | Model learns how to compute `y` |\n",
    "| Programmer writes | The rule                 | The data                        |\n",
    "| Flexibility       | Not adaptive             | Can generalize patterns         |\n",
    "| Good for          | Simple logic             | Unknown, complex patterns       |\n",
    "\n",
    "---\n",
    "\n",
    "### 🧠 Analogy\n",
    "\n",
    "> Traditional programming is like baking with a recipe.\n",
    "> Machine learning is like giving a robot several cakes and letting it figure out the recipe itself.\n"
   ]
  }
 ],
 "metadata": {
  "kernelspec": {
   "display_name": "Python 3",
   "language": "python",
   "name": "python3"
  },
  "language_info": {
   "codemirror_mode": {
    "name": "ipython",
    "version": 3
   },
   "file_extension": ".py",
   "mimetype": "text/x-python",
   "name": "python",
   "nbconvert_exporter": "python",
   "pygments_lexer": "ipython3",
   "version": "3.10.11"
  }
 },
 "nbformat": 4,
 "nbformat_minor": 5
}
