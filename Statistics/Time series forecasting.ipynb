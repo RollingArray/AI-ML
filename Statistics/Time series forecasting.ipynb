{
 "cells": [
  {
   "cell_type": "markdown",
   "metadata": {},
   "source": [
    "# Time series forecasting\n",
    "\n",
    "1. **Time Series Data Representation**:\n",
    "   - Let $ Y_t $ denote the value of the time series at time $ t $. Typically, $ t $ represents discrete time intervals such as days, months, or years.\n",
    "   - The time series data can be represented as $ \\{Y_1, Y_2, ..., Y_n\\} $, where $ n $ is the total number of observations.\n",
    "\n",
    "2. **Modeling the Time Series**:\n",
    "   - Time series data often exhibits patterns such as trend, seasonality, and random fluctuations. Mathematical models are used to capture these patterns.\n",
    "   - A common approach is to model the time series as a combination of deterministic components (trend and seasonality) and stochastic components (random noise).\n",
    "\n",
    "3. **Trend Modeling**:\n",
    "   - Trend represents the long-term movement or direction of the time series. It can be modeled using linear regression or more complex functions.\n",
    "   - A linear trend model can be expressed as $ Y_t = a + bt + e_t $, where $ a $ is the intercept, $ b $ is the slope, and $ e_t $ is the error term.\n",
    "\n",
    "4. **Seasonality Modeling**:\n",
    "   - Seasonality refers to periodic fluctuations that occur at fixed intervals within the data. It can be modeled using methods like seasonal decomposition or Fourier series.\n",
    "   - Seasonal components are typically represented as dummy variables or trigonometric functions.\n",
    "\n",
    "5. **Stochastic Modeling**:\n",
    "   - Stochastic components capture random fluctuations and irregularities in the data. They are often modeled using statistical methods such as autoregressive integrated moving average (ARIMA) models or machine learning algorithms.\n",
    "   - The stochastic component is usually assumed to follow a specific probability distribution, such as Gaussian (normal) distribution.\n",
    "\n",
    "6. **Parameter Estimation**:\n",
    "   - Parameters of the time series model, such as intercept, slope, and coefficients of seasonal components, are estimated using techniques like least squares estimation, maximum likelihood estimation, or gradient descent optimization.\n",
    "   - The goal is to find the parameter values that minimize the difference between the observed data and the model predictions.\n",
    "\n",
    "7. **Forecasting Future Values**:\n",
    "   - Once the model parameters are estimated, future values of the time series can be forecasted by extrapolating the trend and seasonal components.\n",
    "   - Forecasting techniques include simple exponential smoothing, Holt-Winters method, ARIMA forecasting, and machine learning algorithms like neural networks and random forests.\n",
    "\n",
    "8. **Model Evaluation**:\n",
    "   - The accuracy of the forecasting model is evaluated using various metrics such as mean absolute error (MAE), mean squared error (MSE), root mean squared error (RMSE), and forecast accuracy measures like MAPE (mean absolute percentage error).\n",
    "\n",
    "<img src=\"images/time-series-1.png\" width=\"75%\">\n"
   ]
  },
  {
   "cell_type": "markdown",
   "metadata": {},
   "source": [
    "## Problem statement\n",
    "\n",
    "### example 1\n",
    "<img src=\"images/time-series-2.png\" width=\"75%\">\n",
    "\n",
    "### example 2\n",
    "<img src=\"images/time-series-3.png\" width=\"75%\">"
   ]
  },
  {
   "cell_type": "markdown",
   "metadata": {},
   "source": [
    "# Simple Moving Average\n",
    "\n",
    "Simple Moving Average (SMA) is a commonly used technique in time series analysis for smoothing out fluctuations and highlighting long-term trends in data. It calculates the average of a specified number of past data points over a rolling window, where each average is then used as a data point in the smoothed series.\n",
    "\n",
    "Here's how to calculate Simple Moving Average:\n",
    "\n",
    "1. **Select a Window Size (N)**:\n",
    "   Decide on the number of past data points to include in the moving average calculation. This is typically referred to as the window size, denoted by $ N $.\n",
    "\n",
    "2. **Compute the Moving Average for Each Time Point**:\n",
    "   For each time point $ t $, calculate the average of the past $ N $ data points, including the current point. This forms a smoothed series where each point represents the average value over the window.\n",
    "\n",
    "3. **Formal Definition**:\n",
    "   Given a time series $ Y_t $ for $ t = 1, 2, ..., T $, the Simple Moving Average at time $ t $ with a window size $ N $ is calculated as:\n",
    "   $ SMA_t = \\frac{1}{N} \\sum_{i=t-N+1}^{t} Y_i $\n",
    "\n",
    "    <img src=\"images/time-series-4.png\">\n",
    "4. "
   ]
  },
  {
   "cell_type": "markdown",
   "metadata": {},
   "source": [
    "# Exponential Smoothing\n",
    "\n",
    "Exponential smoothing is another widely used technique in time series analysis for smoothing out fluctuations and extracting trends from data. Unlike the Simple Moving Average (SMA), which gives equal weight to all past observations within a window, exponential smoothing assigns exponentially decreasing weights to older observations, with more recent observations receiving higher weights.\n",
    "\n",
    "Here's how exponential smoothing works:\n",
    "\n",
    "1. **Initial Level (S1)**:\n",
    "   The initial level $ S_1 $ is typically set as the first observation in the time series, although it can also be calculated as the average of the first few observations.\n",
    "\n",
    "2. **Smoothing Parameter (α)**:\n",
    "   Exponential smoothing introduces a smoothing parameter $ \\alpha $, where $ 0 < \\alpha < 1 $, to control the rate at which older observations decay in influence. A smaller value of $ \\alpha $ gives more weight to recent observations, while a larger value gives more weight to older observations.\n",
    "\n",
    "3. **Update Equation**:\n",
    "   The smoothed value $ S_t $ at time $ t $ is updated based on the previous smoothed value $ S_{t-1} $ and the current observation $ Y_t $ using the exponential smoothing formula:\n",
    "   $ S_t = \\alpha Y_t + (1 - \\alpha) S_{t-1} $\n",
    "\n",
    "### Example\n",
    "   Let's say we have the following time series data:\n",
    "   $\n",
    "   \\begin{array}{|c|c|}\n",
    "   \\hline\n",
    "   \\text{Time (t)} & \\text{Value (Yt)} \\\\\n",
    "   \\hline\n",
    "   1 & 10 \\\\\n",
    "   2 & 15 \\\\\n",
    "   3 & 20 \\\\\n",
    "   4 & 25 \\\\\n",
    "   5 & 30 \\\\\n",
    "   \\hline\n",
    "   \\end{array}\n",
    "   $\n",
    "   If we choose $ \\alpha = 0.5 $, the exponential smoothing process would be:\n",
    "   - $ S_1 = 10 $ (initial level)\n",
    "   - For $ t = 2 $:\n",
    "     $ S_2 = 0.5 \\times 15 + (1 - 0.5) \\times 10 = 12.5 $\n",
    "   - For $ t = 3 $:\n",
    "     $ S_3 = 0.5 \\times 20 + (1 - 0.5) \\times 12.5 = 16.25 $\n",
    "   - Continuing this process for each time point.\n",
    "\n",
    "### Example with multiple alpha values\n",
    "<img src=\"images/time-series-5.png\">\n"
   ]
  }
 ],
 "metadata": {
  "kernelspec": {
   "display_name": "base",
   "language": "python",
   "name": "python3"
  },
  "language_info": {
   "codemirror_mode": {
    "name": "ipython",
    "version": 3
   },
   "file_extension": ".py",
   "mimetype": "text/x-python",
   "name": "python",
   "nbconvert_exporter": "python",
   "pygments_lexer": "ipython3",
   "version": "3.9.12"
  }
 },
 "nbformat": 4,
 "nbformat_minor": 2
}
