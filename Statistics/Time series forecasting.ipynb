{
 "cells": [
  {
   "cell_type": "markdown",
   "metadata": {},
   "source": [
    "# Time series forecasting\n",
    "\n",
    "1. **Time Series Data Representation**:\n",
    "   - Let $ Y_t $ denote the value of the time series at time $ t $. Typically, $ t $ represents discrete time intervals such as days, months, or years.\n",
    "   - The time series data can be represented as $ \\{Y_1, Y_2, ..., Y_n\\} $, where $ n $ is the total number of observations.\n",
    "\n",
    "2. **Modeling the Time Series**:\n",
    "   - Time series data often exhibits patterns such as trend, seasonality, and random fluctuations. Mathematical models are used to capture these patterns.\n",
    "   - A common approach is to model the time series as a combination of deterministic components (trend and seasonality) and stochastic components (random noise).\n",
    "\n",
    "3. **Trend Modeling**:\n",
    "   - Trend represents the long-term movement or direction of the time series. It can be modeled using linear regression or more complex functions.\n",
    "   - A linear trend model can be expressed as $ Y_t = a + bt + e_t $, where $ a $ is the intercept, $ b $ is the slope, and $ e_t $ is the error term.\n",
    "\n",
    "4. **Seasonality Modeling**:\n",
    "   - Seasonality refers to periodic fluctuations that occur at fixed intervals within the data. It can be modeled using methods like seasonal decomposition or Fourier series.\n",
    "   - Seasonal components are typically represented as dummy variables or trigonometric functions.\n",
    "\n",
    "5. **Stochastic Modeling**:\n",
    "   - Stochastic components capture random fluctuations and irregularities in the data. They are often modeled using statistical methods such as autoregressive integrated moving average (ARIMA) models or machine learning algorithms.\n",
    "   - The stochastic component is usually assumed to follow a specific probability distribution, such as Gaussian (normal) distribution.\n",
    "\n",
    "6. **Parameter Estimation**:\n",
    "   - Parameters of the time series model, such as intercept, slope, and coefficients of seasonal components, are estimated using techniques like least squares estimation, maximum likelihood estimation, or gradient descent optimization.\n",
    "   - The goal is to find the parameter values that minimize the difference between the observed data and the model predictions.\n",
    "\n",
    "7. **Forecasting Future Values**:\n",
    "   - Once the model parameters are estimated, future values of the time series can be forecasted by extrapolating the trend and seasonal components.\n",
    "   - Forecasting techniques include simple exponential smoothing, Holt-Winters method, ARIMA forecasting, and machine learning algorithms like neural networks and random forests.\n",
    "\n",
    "8. **Model Evaluation**:\n",
    "   - The accuracy of the forecasting model is evaluated using various metrics such as mean absolute error (MAE), mean squared error (MSE), root mean squared error (RMSE), and forecast accuracy measures like MAPE (mean absolute percentage error).\n",
    "\n",
    "<img src=\"images/time-series-1.png\" width=\"75%\">\n"
   ]
  },
  {
   "cell_type": "markdown",
   "metadata": {},
   "source": [
    "## Problem statement\n",
    "\n",
    "### example 1\n",
    "<img src=\"images/time-series-2.png\" width=\"75%\">\n",
    "\n",
    "### example 2\n",
    "<img src=\"images/time-series-3.png\" width=\"75%\">"
   ]
  }
 ],
 "metadata": {
  "kernelspec": {
   "display_name": "base",
   "language": "python",
   "name": "python3"
  },
  "language_info": {
   "codemirror_mode": {
    "name": "ipython",
    "version": 3
   },
   "file_extension": ".py",
   "mimetype": "text/x-python",
   "name": "python",
   "nbconvert_exporter": "python",
   "pygments_lexer": "ipython3",
   "version": "3.9.12"
  }
 },
 "nbformat": 4,
 "nbformat_minor": 2
}
