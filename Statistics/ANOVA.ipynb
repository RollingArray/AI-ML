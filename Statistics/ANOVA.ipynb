{
 "cells": [
  {
   "cell_type": "markdown",
   "metadata": {},
   "source": [
    "# ANOVA-Test\n",
    "\n",
    "Imagine you're trying to figure out if there's a difference in how well three different salespeople are doing in selling products. You've got Linda, Mark, and Nancy, and you want to know if one of them is consistently selling more than the others.\n",
    "\n",
    "Now, imagine you're trying to understand this without any fancy statistics. What would you do? You might just look at their sales numbers and compare them, right? That's essentially what ANOVA does, but in a more organized and statistically reliable way.\n",
    "\n",
    "Here's how it works:\n",
    "\n",
    "1. **Dividing the Variance**: ANOVA looks at the total variation in sales across all three salespeople. It then tries to figure out how much of this variation is due to actual differences in how well each salesperson is doing (what we call \"between-group variation\"), and how much is just random fluctuation (what we call \"within-group variation\").\n",
    "\n",
    "2. **Comparing the Variance**: Next, ANOVA compares these two types of variation. If the between-group variation is much larger than the within-group variation, it suggests that there's a real difference between the salespeople's performance, not just random chance.\n",
    "\n",
    "3. **Making a Conclusion**: Finally, based on this comparison, ANOVA gives us a number called the F-statistic. If this number is big enough, it tells us that the differences between the salespeople are probably not just random luck, and we can confidently say that at least one salesperson is selling more than the others.\n",
    "\n",
    "So, in simple terms, ANOVA helps us decide if the differences in sales between Linda, Mark, and Nancy are because they're genuinely performing differently or just because of random ups and downs in sales numbers."
   ]
  },
  {
   "cell_type": "markdown",
   "metadata": {},
   "source": [
    "## Problem statement (One way ANOVA)\n",
    "\n",
    "Linda wants to determine whether there is a statistically significant difference between the average weekly sales of her three salespeople, denoted as Salesperson L, M, and N. She plans to use Analysis of Variance (ANOVA) to conduct this analysis, with a significance level of 0.05.\n",
    "\n",
    "Given the weekly sales data in thousands of dollars for each salesperson, categorized into three treatments (L, M, N), Linda aims to test the null hypothesis that there is no difference in the mean weekly sales among the three salespeople. In other words, she wants to ascertain if the variations in weekly sales observed among the salespeople are due to random fluctuations or if there exists a genuine difference in their sales performance.\n",
    "\n",
    "The data provided consists of the following:\n",
    "\n",
    "- Salesperson L: 7, 6, 7, 4 (in thousands of dollars)\n",
    "- Salesperson M: 6, 8, 6, 6 (in thousands of dollars)\n",
    "- Salesperson N: 9, 8, 7, 10 (in thousands of dollars)\n",
    "\n",
    "Using ANOVA, Linda aims to statistically analyze these sales figures to determine whether there is evidence to reject the null hypothesis and conclude that there is a significant difference in the average weekly sales among the three salespeople."
   ]
  },
  {
   "cell_type": "markdown",
   "metadata": {},
   "source": [
    "## Solution \n",
    "\n",
    "1. Null Hypothesis, 𝐻_0: 𝜇_1= 𝜇_2= 𝜇_3\n",
    "2. Alternate Hypothesis, 𝐻_1: 𝜇_1≠ 𝜇_2 ≠ 𝜇_3\n",
    "3. Level of Significance, α = 0.05 \n",
    "\n",
    "<img src=\"images/ANOVA-1.png\" width=\"700\">\n",
    "\n",
    "<img src=\"images/ANOVA-2.png\" width=\"700\">"
   ]
  },
  {
   "cell_type": "markdown",
   "metadata": {},
   "source": [
    "## @ way ANOVA\n",
    "\n",
    "### Problem Statement\n",
    "\n",
    "<img src=\"images/ANOVA-3.png\" width=\"700\">"
   ]
  },
  {
   "cell_type": "markdown",
   "metadata": {},
   "source": [
    "### Solution\n",
    "<img src=\"images/ANOVA-4.png\" width=\"700\">\n",
    "<img src=\"images/ANOVA-5.png\" width=\"700\">"
   ]
  }
 ],
 "metadata": {
  "language_info": {
   "name": "python"
  }
 },
 "nbformat": 4,
 "nbformat_minor": 2
}
