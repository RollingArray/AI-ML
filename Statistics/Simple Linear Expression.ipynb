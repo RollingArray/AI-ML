{
 "cells": [
  {
   "cell_type": "markdown",
   "metadata": {},
   "source": [
    "# Simple Linear Regression\n",
    "\n",
    "1. **Linear Regression**: Linear regression is a statistical method used to model the relationship between a dependent variable (Y) and one or more independent variables (X). In this case, we applied simple linear regression since we had one independent variable (number of TV advertisements) and one dependent variable (number of cars sold). The goal of linear regression is to find the best-fitting linear relationship between the variables.\n",
    "\n",
    " - Mathematical Representation:\n",
    "     - Given a dataset $ \\{(x_1, y_1), (x_2, y_2), ..., (x_n, y_n)\\} $, where $ x_i $ represents the independent variable and $ y_i $ represents the dependent variable.\n",
    "     - The linear regression model is represented as:\n",
    "       $ y_i = \\beta_0 + \\beta_1 x_i + \\epsilon_i $\n",
    "     - Where:\n",
    "       - $ \\beta_0 $ is the intercept (bias term),\n",
    "       - $ \\beta_1 $ is the slope (coefficient of the independent variable),\n",
    "       - $ \\epsilon_i $ represents the error term (the difference between the predicted and actual values),\n",
    "       - $ i $ represents each observation in the dataset.\n",
    "\n",
    "2. **Regression Line**: The regression line represents the linear relationship between the independent variable (X) and the dependent variable (Y). It's represented by the equation $ Y = \\beta_0 + \\beta_1X $, where $ \\beta_0 $ is the intercept and $ \\beta_1 $ is the slope.\n",
    "- Mathematical Representation:\n",
    "     - The regression line equation is represented as:\n",
    "       $ \\hat{y} = \\beta_0 + \\beta_1 x $\n",
    "     - Where:\n",
    "       - $ \\hat{y} $ is the predicted value of the dependent variable,\n",
    "       - $ x $ is the independent variable,\n",
    "       - $ \\beta_0 $ is the intercept (bias term),\n",
    "       - $ \\beta_1 $ is the slope (coefficient of the independent variable).\n",
    "\n",
    "3. **Regression Coefficients**: The regression coefficients ($ \\beta_0 $ and $ \\beta_1 $) represent the slope and intercept of the regression line, respectively. These coefficients are estimated from the data using mathematical formulas. In our problem, we calculated the regression coefficients to define the best-fitting line.\n",
    "\n",
    "4. **Coefficient of Determination (R-squared)**: R-squared measures the proportion of the variance in the dependent variable that is predictable from the independent variable(s). It ranges from 0 to 1, where 0 indicates no linear relationship, and 1 indicates a perfect linear relationship. In this problem, we calculated the R-squared value to evaluate how well the regression line fits the data.\n",
    "- Mathematical Representation:\n",
    "     - R-squared is calculated using the formula:\n",
    "       $ R^2 = 1 - \\frac{{\\sum (y_i - \\hat{y}_i)^2}}{{\\sum (y_i - \\bar{y})^2}} $\n",
    "     - Where:\n",
    "       - $ y_i $ is the actual value of the dependent variable for observation $ i $,\n",
    "       - $ \\hat{y}_i $ is the predicted value of the dependent variable for observation $ i $,\n",
    "       - $ \\bar{y} $ is the mean of the actual values of the dependent variable,\n",
    "       - $ \\sum $ represents the sum over all observations.\n",
    "\n",
    "## Visualize Linear Regression using Python "
   ]
  },
  {
   "cell_type": "code",
   "execution_count": 2,
   "metadata": {},
   "outputs": [
    {
     "data": {
      "image/png": "[encoded data removed]",
      "text/plain": [
       "<Figure size 432x288 with 1 Axes>"
      ]
     },
     "metadata": {
      "needs_background": "light"
     },
     "output_type": "display_data"
    }
   ],
   "source": [
    "import numpy as np\n",
    "import matplotlib.pyplot as plt\n",
    "\n",
    "# Data\n",
    "X = np.array([1, 3, 2, 1, 3, 2, 4, 5, 6, 4])  # Number of TV ads\n",
    "Y = np.array([14, 24, 18, 17, 27, 20, 30, 32, 40, 35])  # Number of cars sold\n",
    "\n",
    "# Perform linear regression\n",
    "beta_1 = np.cov(X, Y, ddof=0)[0, 1] / np.var(X)\n",
    "beta_0 = np.mean(Y) - beta_1 * np.mean(X)\n",
    "\n",
    "# Predict Y values using the regression line\n",
    "Y_pred = beta_0 + beta_1 * X\n",
    "\n",
    "# Plot the data points\n",
    "plt.scatter(X, Y, color='blue', label='Data points')\n",
    "\n",
    "# Plot the regression line\n",
    "plt.plot(X, Y_pred, color='red', label='Regression line')\n",
    "\n",
    "# Add labels and title\n",
    "plt.xlabel('Number of TV ads')\n",
    "plt.ylabel('Number of cars sold')\n",
    "plt.title('Linear Regression: Number of TV ads vs. Number of cars sold')\n",
    "\n",
    "# Add legend\n",
    "plt.legend()\n",
    "\n",
    "# Show plot\n",
    "plt.grid(True)\n",
    "plt.show()\n"
   ]
  },
  {
   "cell_type": "markdown",
   "metadata": {},
   "source": [
    "## Problem statement\n",
    "\n",
    "To fit a regression line of $ Y $ on $ X $ and determine the coefficient of determination using the given data:\n",
    "\n",
    "$\n",
    "\\begin{array}{cc}\n",
    "\\text{No. of TV advs (X)} & \\text{No. of cars sold (Y)} \\\\\n",
    "\\hline\n",
    "1 & 14 \\\\\n",
    "3 & 24 \\\\\n",
    "2 & 18 \\\\\n",
    "1 & 17 \\\\\n",
    "3 & 27 \\\\\n",
    "2 & 20 \\\\\n",
    "\\end{array}\n",
    "$"
   ]
  },
  {
   "cell_type": "markdown",
   "metadata": {},
   "source": [
    "## Solution \n",
    "\n",
    "To fit a regression line of $ Y$ on $ X$ and determine the coefficient of determination (R-squared), you can use the following steps:\n",
    "\n",
    "1. **Calculate the Mean**: Compute the mean of both $ X$ and $ Y$ values.\n",
    "2. **Calculate Covariance and Variance**: Compute the covariance of $ X$ and $ Y$, as well as the variance of $ X$.\n",
    "3. **Compute Regression Coefficients**: Calculate the regression coefficients using the formulas:\n",
    "   - $ \\beta_1 = \\frac{{\\text{cov}(X,Y)}}{{\\text{var}(X)}}$\n",
    "   - $ \\beta_0 = \\bar{Y} - \\beta_1\\bar{X}$\n",
    "4. **Predict Y-values**: Use the regression line equation to predict $ Y$ for each value of $ X$.\n",
    "5. **Compute R-squared**: Calculate the coefficient of determination using the formula:\n",
    "   $ R^2 = 1 - \\frac{{\\sum (Y - \\hat{Y})^2}}{{\\sum (Y - \\bar{Y})^2}} $\n",
    "\n",
    "Let's go through the calculations:\n",
    "\n",
    "1. **Calculate the Mean**:\n",
    "   $ \\bar{X} = \\frac{1+3+2+1+3+2}{6} = 2 $\n",
    "   $ \\bar{Y} = \\frac{14+24+18+17+27+20}{6} = 20 $\n",
    "\n",
    "2. **Calculate Covariance and Variance**:\n",
    "   $ \\text{cov}(X,Y) = \\frac{(1-2)(14-20) + (3-2)(24-20) + \\dots + (2-2)(20-20)}{6} = 4 $\n",
    "   $ \\text{var}(X) = \\frac{(1-2)^2 + (3-2)^2 + \\dots + (2-2)^2}{6} = \\frac{4}{3} $\n",
    "\n",
    "3. **Compute Regression Coefficients**:\n",
    "   $ \\beta_1 = \\frac{4}{\\frac{4}{3}} = 3 $\n",
    "   $ \\beta_0 = 20 - 3(2) = 14 $\n",
    "\n",
    "4. **Predict Y-values**:\n",
    "   Using the equation of the regression line: $ \\hat{Y} = \\beta_0 + \\beta_1X$\n",
    "\\[\n",
    "   \\begin{align*}\n",
    "   \\hat{Y}_1 & = 14 + 3(1) = 17 \\\\\n",
    "   \\hat{Y}_2 & = 14 + 3(3) = 23 \\\\\n",
    "   \\hat{Y}_3 & = 14 + 3(2) = 20 \\\\\n",
    "   \\hat{Y}_4 & = 14 + 3(1) = 17 \\\\\n",
    "   \\hat{Y}_5 & = 14 + 3(3) = 23 \\\\\n",
    "   \\hat{Y}_6 & = 14 + 3(2) = 20 \\\\\n",
    "   \\end{align*}\n",
    "   \\]\n",
    "\n",
    "5. **Compute R-squared**:\n",
    "   \\[\n",
    "   \\begin{align*}\n",
    "   R^2 & = 1 - \\frac{(17-17)^2 + (24-23)^2 + (18-20)^2 + (17-17)^2 + (27-23)^2 + (20-20)^2}{(14-20)^2 + (24-20)^2 + (18-20)^2 + (17-20)^2 + (27-20)^2 + (20-20)^2} \\\\\n",
    "   & = 1 - \\frac{0 + 1 + 4 + 0 + 16 + 0}{36 + 16 + 4 + 9 + 49 + 0} \\\\\n",
    "   & = 1 - \\frac{21}{114} \\\\\n",
    "   & = \\frac{93}{114} \\approx 0.8158\n",
    "   \\end{align*}\n",
    "   \\]\n",
    "\n",
    "So, the coefficient of determination $ R^2$ is approximately $ 0.8158$, indicating that around $ 81.58\\%$ of the variation in the number of cars sold ($ Y$) can be explained by the number of TV advertisements ($ X$) using this linear model."
   ]
  }
 ],
 "metadata": {
  "kernelspec": {
   "display_name": "base",
   "language": "python",
   "name": "python3"
  },
  "language_info": {
   "codemirror_mode": {
    "name": "ipython",
    "version": 3
   },
   "file_extension": ".py",
   "mimetype": "text/x-python",
   "name": "python",
   "nbconvert_exporter": "python",
   "pygments_lexer": "ipython3",
   "version": "3.9.12"
  }
 },
 "nbformat": 4,
 "nbformat_minor": 2
}
